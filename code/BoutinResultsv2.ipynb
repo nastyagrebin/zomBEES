{
 "cells": [
  {
   "cell_type": "code",
   "execution_count": null,
   "id": "2911ffa9-af18-4649-8063-7c3b3dc92eb2",
   "metadata": {},
   "outputs": [],
   "source": [
    "# Import packages\n",
    "# Pandas documentation can be found here: https://pandas.pydata.org/docs/getting_started/index.html\n",
    "import pandas as pd\n",
    "import matplotlib.pyplot as plt\n",
    "import seaborn as sns"
   ]
  },
  {
   "cell_type": "code",
   "execution_count": null,
   "id": "5608bb57-740d-4c40-b8ac-3c9f442777ff",
   "metadata": {},
   "outputs": [],
   "source": [
    "# Initalize DataFrame\n",
    "\n",
    "h_df = pd.read_excel('BoutinResults.xlsx',sheet_name='hygienic_overexpressed')  #import overexpressed genes in hygienic bees\n",
    "h_df.insert(1, \"Hygiene\", \"H\") #Hygiene Status = H (hygienic) or NH (non-hygienic)\n",
    "h_df.insert(7,\"FC\",0) #Add a column for calculating expression fold change\n",
    "#Calculate FC overexpression\n",
    "for k in range(len(h_df)):\n",
    "    if h_df.loc[k,'Non-hygienic FPKM'] == 0.000000:\n",
    "        h_df.loc[k, 'FC'] = 0\n",
    "    else:\n",
    "        FC = h_df.loc[k,'Hygienic FPKM'] / h_df.loc[k,'Non-hygienic FPKM']\n",
    "        h_df.loc[k,'FC'] = FC\n",
    "h_df['FC'] = h_df['FC'].astype(float)\n",
    "#display(h_df)\n",
    "\n",
    "nh_df = pd.read_excel('BoutinResults.xlsx',sheet_name='nonhygienic_overexpressed')  #import overexpressed genes in nonhygienic bees\n",
    "nh_df.insert(1, \"Hygiene\", \"NH\") #Hygiene Status = H (hygienic) or NH (non-hygienic)\n",
    "#Calculate FC overexpression\n",
    "for k in range(len(nh_df)):\n",
    "    if nh_df.loc[k,'Hygienic FPKM'] == 0.000000:\n",
    "        nh_df.loc[k, 'FC'] = 0\n",
    "    else:\n",
    "        FC = nh_df.loc[k,'Non-hygienic FPKM'] / nh_df.loc[k,'Hygienic FPKM']\n",
    "        nh_df.loc[k,'FC'] = FC\n",
    "nh_df['FC'] = nh_df['FC'].astype(float)\n",
    "#display(nh_df)\n",
    "\n",
    "overex_df = pd.concat([h_df,nh_df]) #bring all overexpressed genes together in one df\n",
    "display(overex_df)"
   ]
  },
  {
   "cell_type": "code",
   "execution_count": null,
   "id": "25be9a4f-35f7-4a40-b8d9-6b4e8793d677",
   "metadata": {},
   "outputs": [],
   "source": [
    "#Fold changes\n",
    "\n",
    "plt.figure(1, dpi=300)\n",
    "h_df = h_df.sort_values(by=['FC'],ascending=False) #sort by highest FC\n",
    "h_df.plot.bar(x='Gene', y='FC',color='red',label='Hygienic')\n",
    "plt.ylabel('Expression Fold Change')\n",
    "plt.title('Genes Overexpressed in Hygienic Bees')\n",
    "plt.tight_layout()\n",
    "plt.savefig('OverExHyg.png') #uncomment if you actually want to save figure\n",
    "\n",
    "plt.figure(2,figsize=(15,5),dpi=300)\n",
    "nh_df = nh_df.sort_values(by=['FC'],ascending=False) #sort by highest FC\n",
    "nh_df.plot.bar(x='Gene', y='FC',color='blue',label='Non-Hygienic')\n",
    "plt.ylabel('Expression Fold Change')\n",
    "plt.title('Genes Overexpressed in Non-Hygienic Bees')\n",
    "plt.tick_params(axis='x', which='major', labelsize=7.5)\n",
    "plt.tight_layout()\n",
    "plt.savefig('OverExNonHyg.png') #uncomment if you actually want to save figure\n"
   ]
  },
  {
   "cell_type": "code",
   "execution_count": null,
   "id": "260f8766-6bbf-4b25-aacb-b1f1b7000826",
   "metadata": {},
   "outputs": [],
   "source": [
    "#Bring it all into 1 plot\n",
    "plt.figure(3)\n",
    "plt.title('Overexpressed Genes')\n",
    "sns.barplot(data=overex_df, x='Gene', y='FC', hue='Hygiene',saturation=1)\n",
    "plt.ylabel('Expression Fold Change')\n",
    "plt.tick_params(axis='x', labelrotation=90, labelsize=7.5)\n",
    "plt.tight_layout()\n",
    "plt.savefig('OverExAll.png') #uncomment if you actually want to save figure"
   ]
  },
  {
   "cell_type": "code",
   "execution_count": null,
   "id": "eb28a43e-c3ca-4d0c-9f38-c59b1e3e7f6b",
   "metadata": {},
   "outputs": [],
   "source": []
  }
 ],
 "metadata": {
  "kernelspec": {
   "display_name": "Python 3 (ipykernel)",
   "language": "python",
   "name": "python3"
  },
  "language_info": {
   "codemirror_mode": {
    "name": "ipython",
    "version": 3
   },
   "file_extension": ".py",
   "mimetype": "text/x-python",
   "name": "python",
   "nbconvert_exporter": "python",
   "pygments_lexer": "ipython3",
   "version": "3.9.12"
  }
 },
 "nbformat": 4,
 "nbformat_minor": 5
}
