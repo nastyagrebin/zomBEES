{
 "cells": [
  {
   "cell_type": "code",
   "execution_count": null,
   "id": "5973a2e2-242c-4345-85ea-d562256e8c74",
   "metadata": {},
   "outputs": [],
   "source": [
    "import math\n",
    "import numpy as np\n",
    "import pandas as pd\n",
    "from sklearn.decomposition import PCA\n",
    "import seaborn as sns\n",
    "import scipy\n",
    "\n",
    "import bokeh.io\n",
    "import bokeh.plotting\n",
    "import bokeh.models\n",
    "\n",
    "import warnings\n",
    "warnings.filterwarnings('ignore')\n",
    "\n",
    "bokeh.io.output_notebook()"
   ]
  },
  {
   "cell_type": "code",
   "execution_count": 1,
   "id": "080e6a38-7327-44b0-be39-b8359db05e08",
   "metadata": {},
   "outputs": [],
   "source": [
    "import os\n",
    "import pickle as pkl\n",
    "\n",
    "from pydeseq2.dds import DeseqDataSet\n",
    "from pydeseq2.ds import DeseqStats\n",
    "from pydeseq2.utils import load_example_data"
   ]
  },
  {
   "cell_type": "code",
   "execution_count": 2,
   "id": "d83f2aa8-0341-40a2-aaf5-7b36c737b056",
   "metadata": {},
   "outputs": [
    {
     "name": "stdout",
     "output_type": "stream",
     "text": [
      "           gene1  gene2  gene3  gene4  gene5  gene6  gene7  gene8  gene9  \\\n",
      "sample1       12     21      4    130     18      0     16     54     49   \n",
      "sample2        1     44      2     63     11     10     70     32     57   \n",
      "sample3        4      4     11    180     21      3     28     34     65   \n",
      "sample4        1     10      2    100     44      9     28     16     33   \n",
      "sample5        1     11      6    135     16      2     32     29     31   \n",
      "...          ...    ...    ...    ...    ...    ...    ...    ...    ...   \n",
      "sample96       7     26      3     67     11      4     41     44     54   \n",
      "sample97       1     14      3     71     33      5     19     42     25   \n",
      "sample98      10     36      2     72     11      2     66     27     16   \n",
      "sample99      18     14      3     66     53     11     32     19     79   \n",
      "sample100     21      9      3     42     13     13     19     78     30   \n",
      "\n",
      "           gene10  \n",
      "sample1         3  \n",
      "sample2         9  \n",
      "sample3         2  \n",
      "sample4         9  \n",
      "sample5         5  \n",
      "...           ...  \n",
      "sample96        1  \n",
      "sample97        4  \n",
      "sample98        9  \n",
      "sample99       11  \n",
      "sample100       5  \n",
      "\n",
      "[100 rows x 10 columns]\n"
     ]
    }
   ],
   "source": [
    "counts_df = load_example_data(\n",
    "    modality=\"raw_counts\",\n",
    "    dataset=\"synthetic\",\n",
    "    debug=False,\n",
    ")\n",
    "\n",
    "clinical_df = load_example_data(\n",
    "    modality=\"clinical\",\n",
    "    dataset=\"synthetic\",\n",
    "    debug=False,\n",
    ")\n",
    "\n",
    "print(counts_df)"
   ]
  },
  {
   "cell_type": "code",
   "execution_count": 3,
   "id": "14b37751-7d0f-4d8e-98d5-6bc0e6aa3ef0",
   "metadata": {},
   "outputs": [
    {
     "data": {
      "text/html": [
       "<div>\n",
       "<style scoped>\n",
       "    .dataframe tbody tr th:only-of-type {\n",
       "        vertical-align: middle;\n",
       "    }\n",
       "\n",
       "    .dataframe tbody tr th {\n",
       "        vertical-align: top;\n",
       "    }\n",
       "\n",
       "    .dataframe thead th {\n",
       "        text-align: right;\n",
       "    }\n",
       "</style>\n",
       "<table border=\"1\" class=\"dataframe\">\n",
       "  <thead>\n",
       "    <tr style=\"text-align: right;\">\n",
       "      <th></th>\n",
       "      <th>condition</th>\n",
       "      <th>group</th>\n",
       "    </tr>\n",
       "  </thead>\n",
       "  <tbody>\n",
       "    <tr>\n",
       "      <th>sample1</th>\n",
       "      <td>A</td>\n",
       "      <td>X</td>\n",
       "    </tr>\n",
       "    <tr>\n",
       "      <th>sample2</th>\n",
       "      <td>A</td>\n",
       "      <td>Y</td>\n",
       "    </tr>\n",
       "    <tr>\n",
       "      <th>sample3</th>\n",
       "      <td>A</td>\n",
       "      <td>X</td>\n",
       "    </tr>\n",
       "    <tr>\n",
       "      <th>sample4</th>\n",
       "      <td>A</td>\n",
       "      <td>Y</td>\n",
       "    </tr>\n",
       "    <tr>\n",
       "      <th>sample5</th>\n",
       "      <td>A</td>\n",
       "      <td>X</td>\n",
       "    </tr>\n",
       "    <tr>\n",
       "      <th>...</th>\n",
       "      <td>...</td>\n",
       "      <td>...</td>\n",
       "    </tr>\n",
       "    <tr>\n",
       "      <th>sample96</th>\n",
       "      <td>B</td>\n",
       "      <td>Y</td>\n",
       "    </tr>\n",
       "    <tr>\n",
       "      <th>sample97</th>\n",
       "      <td>B</td>\n",
       "      <td>X</td>\n",
       "    </tr>\n",
       "    <tr>\n",
       "      <th>sample98</th>\n",
       "      <td>B</td>\n",
       "      <td>Y</td>\n",
       "    </tr>\n",
       "    <tr>\n",
       "      <th>sample99</th>\n",
       "      <td>B</td>\n",
       "      <td>X</td>\n",
       "    </tr>\n",
       "    <tr>\n",
       "      <th>sample100</th>\n",
       "      <td>B</td>\n",
       "      <td>Y</td>\n",
       "    </tr>\n",
       "  </tbody>\n",
       "</table>\n",
       "<p>100 rows × 2 columns</p>\n",
       "</div>"
      ],
      "text/plain": [
       "          condition group\n",
       "sample1           A     X\n",
       "sample2           A     Y\n",
       "sample3           A     X\n",
       "sample4           A     Y\n",
       "sample5           A     X\n",
       "...             ...   ...\n",
       "sample96          B     Y\n",
       "sample97          B     X\n",
       "sample98          B     Y\n",
       "sample99          B     X\n",
       "sample100         B     Y\n",
       "\n",
       "[100 rows x 2 columns]"
      ]
     },
     "execution_count": 3,
     "metadata": {},
     "output_type": "execute_result"
    }
   ],
   "source": [
    "clinical_df"
   ]
  },
  {
   "cell_type": "code",
   "execution_count": 4,
   "id": "577fac2f-0609-4b89-8ed7-cbb2277e4b9d",
   "metadata": {},
   "outputs": [],
   "source": [
    "samples_to_keep = ~clinical_df.condition.isna()\n",
    "counts_df = counts_df.loc[samples_to_keep]\n",
    "clinical_df = clinical_df.loc[samples_to_keep]"
   ]
  },
  {
   "cell_type": "code",
   "execution_count": 5,
   "id": "07e07b79-2e69-4caf-a2c0-5c484399c5e3",
   "metadata": {},
   "outputs": [],
   "source": [
    "genes_to_keep = counts_df.columns[counts_df.sum(axis=0) >= 10]\n",
    "counts_df = counts_df[genes_to_keep]"
   ]
  },
  {
   "cell_type": "code",
   "execution_count": null,
   "id": "c2cf2a33-d38d-4c10-a9f0-1f5447c89404",
   "metadata": {},
   "outputs": [],
   "source": []
  }
 ],
 "metadata": {
  "kernelspec": {
   "display_name": "Python 3 (ipykernel)",
   "language": "python",
   "name": "python3"
  },
  "language_info": {
   "codemirror_mode": {
    "name": "ipython",
    "version": 3
   },
   "file_extension": ".py",
   "mimetype": "text/x-python",
   "name": "python",
   "nbconvert_exporter": "python",
   "pygments_lexer": "ipython3",
   "version": "3.8.8"
  }
 },
 "nbformat": 4,
 "nbformat_minor": 5
}
