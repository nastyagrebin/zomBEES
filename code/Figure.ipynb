{
 "cells": [
  {
   "cell_type": "code",
   "execution_count": 10,
   "id": "1200e14d",
   "metadata": {},
   "outputs": [],
   "source": [
    "#This is a notebook for our figure\n",
    "import math\n",
    "import pysam\n",
    "import numpy as np\n",
    "import statistics\n",
    "from itertools import groupby\n",
    "from scipy.interpolate import make_interp_spline\n",
    "import operator\n",
    "\n",
    "import bokeh.io\n",
    "import bokeh.plotting\n",
    "import bokeh.models\n",
    "\n"
   ]
  },
  {
   "cell_type": "markdown",
   "id": "4bdecd9b-021a-4275-83d2-086951e1c804",
   "metadata": {},
   "source": [
    "#### We start by loading in the .bam file and parsing through all properly paired reads:"
   ]
  },
  {
   "cell_type": "code",
   "execution_count": 7,
   "id": "069e9238",
   "metadata": {},
   "outputs": [],
   "source": [
    "# load in the .bam file representing alignment\n",
    "bam_file = pysam.AlignmentFile(\"../data/alignments/SRR13397491_sorted.bam\", \"rb\")\n",
    "\n",
    "# create holder datastructures\n",
    "mean_base_qualities = []\n",
    "insert_sizes = []\n",
    "zipped = []\n",
    "\n",
    "# loop over every read in the .bam file\n",
    "i = 0\n",
    "for read in bam_file:\n",
    "    # Only processing paired proper reads\n",
    "    if read.is_paired and read.is_proper_pair and read.is_read1:\n",
    "        if read.template_length != 0:\n",
    "            i+=1\n",
    "            mean_bq = np.mean(read.query_qualities)\n",
    "            i_size = int(\n",
    "                math.sqrt(\n",
    "                    math.pow(\n",
    "                        read.template_length, 2)))\n",
    "            zipped.append((i_size, mean_bq))\n",
    "            mean_base_qualities.append(mean_bq)\n",
    "            insert_sizes.append(i_size)"
   ]
  },
  {
   "cell_type": "markdown",
   "id": "4fdbe1b5-5f85-49fe-9e60-64b5a3fe55e2",
   "metadata": {},
   "source": [
    "#### Now we rank order the reads by length for easier interpretability:"
   ]
  },
  {
   "cell_type": "code",
   "execution_count": 12,
   "id": "58fcc11e-6d02-4cd8-912a-04617dde338f",
   "metadata": {},
   "outputs": [],
   "source": [
    "res = [(key, statistics.mean(map(operator.itemgetter(1), ele)))\n",
    "       for key, ele in groupby(sorted(zipped, key = operator.itemgetter(0)),\n",
    "                                                key = operator.itemgetter(0))]\n",
    "\n",
    "tuples = zip(*res)\n",
    "list1, list2 = [list(tuple) for tuple in  tuples]  \n",
    "\n",
    "xnew = np.linspace(min(list1), max(list1), len(list1))\n"
   ]
  },
  {
   "cell_type": "code",
   "execution_count": 16,
   "id": "3f865511-a7ec-4c79-9de3-5444ac921e78",
   "metadata": {},
   "outputs": [
    {
     "name": "stdout",
     "output_type": "stream",
     "text": [
      "/Users/anastasiyagrebin/Desktop/OneDrive_California_Institute_of_Technology/grad_classes/20.440/zomBEES/code\n"
     ]
    }
   ],
   "source": [
    "!pwd"
   ]
  },
  {
   "cell_type": "code",
   "execution_count": 17,
   "id": "0b8e4c71",
   "metadata": {},
   "outputs": [
    {
     "data": {
      "text/plain": [
       "'/Users/anastasiyagrebin/Desktop/OneDrive_California_Institute_of_Technology/grad_classes/20.440/zomBEES/figures/fig1.png'"
      ]
     },
     "execution_count": 17,
     "metadata": {},
     "output_type": "execute_result"
    }
   ],
   "source": [
    "figure = bokeh.plotting.figure(\n",
    "    title=\"Read quality as a function of size\",\n",
    "    width=600,\n",
    "    height=400,\n",
    "    x_axis_label=\"Read sizes\",\n",
    "    y_axis_label=\"Quality scores\",\n",
    ")\n",
    "\n",
    "figure.line(\n",
    "    xnew,\n",
    "    list2,\n",
    "    color=\"red\"\n",
    ")\n",
    "\n",
    "bokeh.io.export_png(figure, filename=\"../figures/fig1.png\")"
   ]
  },
  {
   "cell_type": "code",
   "execution_count": null,
   "id": "b8a82a10-fade-4c9c-a882-1cf9c01cbe8b",
   "metadata": {},
   "outputs": [],
   "source": []
  }
 ],
 "metadata": {
  "kernelspec": {
   "display_name": "Python 3 (ipykernel)",
   "language": "python",
   "name": "python3"
  },
  "language_info": {
   "codemirror_mode": {
    "name": "ipython",
    "version": 3
   },
   "file_extension": ".py",
   "mimetype": "text/x-python",
   "name": "python",
   "nbconvert_exporter": "python",
   "pygments_lexer": "ipython3",
   "version": "3.8.8"
  }
 },
 "nbformat": 4,
 "nbformat_minor": 5
}
